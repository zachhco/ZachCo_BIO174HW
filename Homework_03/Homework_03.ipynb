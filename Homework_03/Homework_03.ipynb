{
 "cells": [
  {
   "cell_type": "markdown",
   "metadata": {},
   "source": [
    "# Homework 3:\n",
    "\n",
    "Do these exercises individually. You should use this ipython notebook and for each question you should have one code cell with you answer. Copy this notebook to your individual local repository in a directory called \"Homework_03\" and when you are done push the changes and sync with your github repository. If any of the questions need a separate file to be read by your program, add it to the same directory and make sure to push the file as well.\n",
    "\n",
    "A lot of these exercises are from this webpage: http://www.ling.gu.se/~lager/python_exercises.html. There are answers to these exercises online. Please do not copy the answers, you can search online for ideas but avoid using the text of the question on google.\n",
    "\n",
    "PLEASE DO NOT USE GITHUB CO-PILOT.\n",
    "\n",
    "For each question write the requested function and then call the function with the requested arguments. For example, if the question asks you to write a function called \"add\" that adds two numbers and then call the function with the arguments 2 and 3, you would write:\n",
    "\n",
    "```python \n",
    "def add(a,b):\n",
    "    return a+b\n",
    "\n",
    "add(2,3)\n",
    "```"
   ]
  },
  {
   "cell_type": "markdown",
   "metadata": {},
   "source": [
    "__Exercise 1.__ Write a Python function that asks the user for the radius of a circle and computes the area of the circle. Call the function with different values for the radius."
   ]
  },
  {
   "cell_type": "code",
   "execution_count": 1,
   "metadata": {},
   "outputs": [
    {
     "name": "stdout",
     "output_type": "stream",
     "text": [
      "78.53981633974483\n",
      "153.93804002589985\n"
     ]
    }
   ],
   "source": [
    "import math\n",
    "\n",
    "def area_calc(radius):\n",
    "    return math.pi * radius **2\n",
    "\n",
    "#test\n",
    "print(area_calc(5))\n",
    "print(area_calc(7))"
   ]
  },
  {
   "cell_type": "markdown",
   "metadata": {},
   "source": [
    "__Exercise 2.__ Write a Python function that receives a filename, and returns the extension of the file. Examples:\n",
    "\n",
    "* **test.txt**, extension is txt\n",
    "* **notebook.ipynb**, extension is ipynb\n",
    "* **case.1.txt**, extension is txt\n",
    "* **item.1.2.a.doc**, extension is doc\n",
    "* **file**, no extension, your program should return something saying that there is no extension\n",
    "\n",
    "Call your function with the filenames above and return the extension."
   ]
  },
  {
   "cell_type": "code",
   "execution_count": 9,
   "metadata": {
    "collapsed": true
   },
   "outputs": [
    {
     "name": "stdout",
     "output_type": "stream",
     "text": [
      "extension is txt\n",
      "extension is ipynb\n",
      "extension is xlsx\n",
      "There is no file extension\n"
     ]
    }
   ],
   "source": [
    "def file_type(filename):\n",
    "\n",
    "    if '.' in filename:\n",
    "        extension = filename.split(\".\")[1]\n",
    "        return (f\"extension is {extension}\")\n",
    "    else:\n",
    "        return (f\"There is no file extension\")\n",
    "\n",
    "#test\n",
    "print(file_type(\"test.txt\"))\n",
    "print(file_type(\"hw1.ipynb\"))\n",
    "print(file_type(\"testing.xlsx\"))\n",
    "print(file_type(\"testing\"))"
   ]
  },
  {
   "cell_type": "markdown",
   "metadata": {},
   "source": [
    "__Exercise 3.__ Write a Python function that takes two points (in the form X, Y) and computes the euclidian distance between the two points. In other words, given two points (x1,y1) and (x2, y2), return the distance between the points, given by:\n",
    "\n",
    "$$\n",
    "\\begin{equation*} d=\\sqrt{(x_2-x_1)^2+(y_2-y_1)^2} \\end{equation*}\n",
    "$$\n",
    "\n",
    "Call your function with some points to test that it works."
   ]
  },
  {
   "cell_type": "code",
   "execution_count": 3,
   "metadata": {
    "collapsed": true
   },
   "outputs": [
    {
     "name": "stdout",
     "output_type": "stream",
     "text": [
      "34.0\n",
      "34.539832078341085\n"
     ]
    }
   ],
   "source": [
    "def eudist(x_1, y_1, x_2, y_2):\n",
    "    x = (x_2 - x_1) **2\n",
    "    y = (y_2 - y_1) **2\n",
    "    return math.sqrt(x + y)\n",
    "\n",
    "print(eudist(4, 10, 20, 40))\n",
    "print(eudist(34, 68, 2, 55))"
   ]
  },
  {
   "cell_type": "markdown",
   "metadata": {},
   "source": [
    "__Exercise 4.__ Create a function called `max_in_list()` that takes a list of numbers of any length and returns the largest one without using python's builtin `max()`. Your program should work for any numbers, including negative numbers. \n",
    "\n",
    "Call your function with different lists of numbers (including negative numbers) and show that it works."
   ]
  },
  {
   "cell_type": "code",
   "execution_count": 4,
   "metadata": {},
   "outputs": [
    {
     "name": "stdout",
     "output_type": "stream",
     "text": [
      "68\n",
      "94\n",
      "95\n"
     ]
    }
   ],
   "source": [
    "def max_in_list(list):\n",
    "    max_val = list[0]\n",
    "    for num in list[1:]:\n",
    "        if num > max_val:\n",
    "            max_val = num\n",
    "    return(max_val)\n",
    "\n",
    "#test\n",
    "print(max_in_list([33,32,28,35,38,47,68,17]))\n",
    "print(max_in_list([26,3,69,25,94,68,36,60]))\n",
    "print(max_in_list([95,23,15,17,40,80,92,33]))"
   ]
  },
  {
   "cell_type": "markdown",
   "metadata": {},
   "source": [
    "__Exercise 5.__ Write a **function** `translate()` that will translate a text into pig Latin. According to wikipedia here are the rules for pig latin:\n",
    "\n",
    "1. For words that begin with consonant sounds, all letters before the initial vowel are placed at the end of the word sequence. Then, \"ay\" (some people just add \"a\") is added, as in the following examples:\n",
    "  * pig → igpay\n",
    "  * banana → ananabay\n",
    "  * trash → ashtray\n",
    "  * happy → appyhay\n",
    "2. For words which begin with vowel sounds or silent letter, one just adds \"yay\" to the end. Examples are:\n",
    "  * eat → eatyay\n",
    "  * omelet → omeletyay\n",
    "\n",
    "You do not need to worry about special characters or punctuation. Just remove those from the string.\n",
    "\n",
    "Call your function with the following string:\n",
    "\n",
    "```\n",
    "Hello. My name is Andre. \n",
    "```\n",
    "\n",
    "It should return:\n",
    "\n",
    "```\n",
    "ellohay ymay amenay isyay andreyay \n",
    "```"
   ]
  },
  {
   "cell_type": "code",
   "execution_count": 8,
   "metadata": {
    "collapsed": true
   },
   "outputs": [
    {
     "name": "stdout",
     "output_type": "stream",
     "text": [
      "ellohay ymay amenay isyay andreyay\n"
     ]
    }
   ],
   "source": [
    "def pig(text):\n",
    "    vowels = 'aeiouAEIOU'\n",
    "    words = text.split()\n",
    "    punc = \",.\"\n",
    "    pig_latin = []\n",
    "\n",
    "    for word in words:\n",
    "        for letter in punc:\n",
    "            word = word.replace(letter, \"\")\n",
    "\n",
    "        if len(word) > 0 and word[0] in vowels:\n",
    "            pig_word = word + \"yay\"\n",
    "        else:\n",
    "            pig_word = word[1:] + word[0] + \"ay\"\n",
    "        \n",
    "        pig_latin.append(pig_word)\n",
    "\n",
    "    return ' '.join(pig_latin).lower()\n",
    "\n",
    "\n",
    "print(pig('Hello. My name is Andre.'))"
   ]
  },
  {
   "cell_type": "markdown",
   "metadata": {},
   "source": [
    "__Exercise 6.__  Palindromes are words or phrases that read the same when written backwards.Create a **function** `is_palindrome()` that receives a string variable and determines if it is a palindrome. \n",
    "\n",
    "The function should return true or false, and should ignore punctuation, capitalization, and spacing.\n",
    "\n",
    "Test your function with some palindromes and non-palindromes. Here are some palindromes:\n",
    "\n",
    "```\n",
    "\"Go hang a salami I'm a lasagna hog.\", \n",
    "\"Was it a rat I saw?\", \n",
    "\"Step on no pets\", \n",
    "\"Sit on a potato pan, Otis\", \n",
    "\"Satan, oscillate my metallic sonatas\", \n",
    "\"Rise to vote sir\", \n",
    "\"Dammit, I'm mad!\"\n",
    "```"
   ]
  },
  {
   "cell_type": "code",
   "execution_count": 31,
   "metadata": {
    "collapsed": true
   },
   "outputs": [
    {
     "name": "stdout",
     "output_type": "stream",
     "text": [
      "True\n",
      "True\n",
      "False\n"
     ]
    }
   ],
   "source": [
    "import string\n",
    "\n",
    "def is_palindrome(words):\n",
    "    clean_words = words.lower().replace(\" \", \"\")\n",
    "\n",
    "    for letter in string.punctuation:\n",
    "        clean_words = clean_words.replace(letter, \"\")\n",
    "\n",
    "    return clean_words == clean_words[::-1]\n",
    "\n",
    "print(is_palindrome(\"Go hang a salami I'm a lasagna hog.\"))\n",
    "print(is_palindrome(\"Satan, oscillate my metallic sonatas\"))\n",
    "print(is_palindrome(\"This is not a palindrome\"))"
   ]
  },
  {
   "cell_type": "markdown",
   "metadata": {},
   "source": [
    "__Exercise 7.__ Write a function that receives a file name, opens the file, reads each line, and uses the `is_palindrome()` function from the previous exercise to print the line to the screen if it is a palindrome.\n",
    "\n",
    "Test the function with the `palindromes.txt` file in the current directory. When given this file, your program should output:\n",
    "\n",
    "```\n",
    "was it a rat i saw?!?\n",
    "Are we not drawn onward, we few, drawn onward to new era?\n",
    "A man, a plan, a canal - Panama\n",
    "Never odd or even\n",
    "aviva\n",
    "```"
   ]
  },
  {
   "cell_type": "code",
   "execution_count": 33,
   "metadata": {
    "collapsed": true
   },
   "outputs": [
    {
     "name": "stdout",
     "output_type": "stream",
     "text": [
      "was it a rat i saw?!?\n",
      "Are we not drawn onward, we few, drawn onward to new era?\n",
      "A man, a plan, a canal - Panama\n",
      "Never odd or even\n",
      "aviva\n"
     ]
    }
   ],
   "source": [
    "def palindrome_finder(file_name):\n",
    "    with open(file_name, \"r\") as file:\n",
    "        for line in file:\n",
    "            if is_palindrome(line.strip()):\n",
    "                print(line.strip())\n",
    "\n",
    "palindrome_finder(\"palindromes.txt\")"
   ]
  },
  {
   "cell_type": "markdown",
   "metadata": {},
   "source": [
    "__Exercise 8.__ According to Wikipedia, a semordnilap is a word or phrase that spells a different word or phrase backwards. (\"Semordnilap\" is itself \"palindromes\" spelled backwards.) Write a semordnilap recogniser function that accepts a file name from the user for a file containing a list of words, one per line. The function will read the file and find and print all pairs of words that are semordnilaps to the screen. \n",
    "\n",
    "For example, if \"stressed\" and \"desserts\" are part of the word list, the output should include the pair \"stressed desserts\". Note, by the way, that each pair by itself forms a palindrome. But it should output each pair only once, so if the program output \"stressed desserts\" it should not output \"desserts stressed\".\n",
    "\n",
    "You can test your function using the file: `semordnilap.txt`. It should return:\n",
    "\n",
    "```\n",
    "desserts stressed\n",
    "Semordnilap palindromes\n",
    "```"
   ]
  },
  {
   "cell_type": "code",
   "execution_count": 1,
   "metadata": {},
   "outputs": [
    {
     "name": "stdout",
     "output_type": "stream",
     "text": [
      "desserts stressed\n",
      "palindromes semordnilap\n"
     ]
    }
   ],
   "source": [
    "def semi(text_file):\n",
    "    list_words = []\n",
    "    with open(text_file, \"r\") as file:\n",
    "        for line in file:\n",
    "            list_words.append(line.strip().lower())\n",
    "    for word in list_words:\n",
    "        rev_word =  word[::-1]\n",
    "        if rev_word in list_words and word < rev_word:\n",
    "            print(word, rev_word)\n",
    "\n",
    "semi(\"semordnilap.txt\")"
   ]
  },
  {
   "cell_type": "markdown",
   "metadata": {},
   "source": [
    "__Exercise 9.__ Write a function that asks for a filename, reads all the words in the file, calculates the average word length and creates a histogram of words length. \n",
    "\n",
    "A histogram shows how many times you encountered a word of a given size. \n",
    "The output of the program should look like:\n",
    "\n",
    "```\n",
    "The file: filename contains X words, the average length of the words is: Y.\n",
    "Histogram of the word sizes:\n",
    "1: ***********\n",
    "2: ********\n",
    "3: *************\n",
    "4: *********\n",
    "....\n",
    "```\n",
    "\n",
    "I'll test using this file: `text.txt`. Your output should be:\n",
    "\n",
    "```\n",
    "The file text.txt contains 69 words, with an average word length of 5. Histogram of the word sizes:\n",
    "1: \n",
    "2: *************\n",
    "3: *****\n",
    "4: ***********\n",
    "5: **********\n",
    "6: *********\n",
    "7: ********\n",
    "8: ****\n",
    "9: ****\n",
    "10: **\n",
    "11: *\n",
    "12: *\n",
    "13: *\n",
    "```\n",
    "\n",
    "To do this, you need to find the size of each word, and then count all words of size 1, size 2, etc. Each ```*``` in each row in your histogram represents one occurrence of a word of that size."
   ]
  },
  {
   "cell_type": "code",
   "execution_count": 2,
   "metadata": {},
   "outputs": [
    {
     "name": "stdout",
     "output_type": "stream",
     "text": [
      "The file text.txt conatins 69 words, with an average word length of 5. Histogram of the word sizes:\n",
      "1:\n",
      "2: *************\n",
      "3: *****\n",
      "4: ***********\n",
      "5: **********\n",
      "6: *********\n",
      "7: ********\n",
      "8: ****\n",
      "9: ****\n",
      "10: **\n",
      "11: *\n",
      "12: *\n",
      "13: *\n"
     ]
    }
   ],
   "source": [
    "import re\n",
    "\n",
    "def histo(file_name):\n",
    "    len_dict = {}\n",
    "    total_len = 0\n",
    "    word_count = 0\n",
    "\n",
    "    with open(file_name, \"r\") as file:\n",
    "        for line in file:\n",
    "            words = line.split()\n",
    "            for word in words:\n",
    "                clean_word = re.sub(\"[^a-zA-Z]\", \"\", word)\n",
    "                word_len = len(clean_word)\n",
    "\n",
    "                total_len += word_len\n",
    "                word_count += 1\n",
    "\n",
    "                if word_len in len_dict:\n",
    "                    len_dict[word_len] += 1\n",
    "                else:\n",
    "                    len_dict[word_len] = 1\n",
    "\n",
    "    avg_word_len = round(total_len/word_count) if word_count > 0 else 0\n",
    "\n",
    "    #print(\"The file\", file_name, \"contains\", word_count, \"words,\", \"with an average word length of\", avg_word_len, \". Historgram of the word sizes:\")\n",
    "    print(f\"The file {file_name} conatins {word_count} words, with an average word length of {avg_word_len}. Histogram of the word sizes:\")\n",
    "\n",
    "    print('1:')\n",
    "    for length in sorted(len_dict):\n",
    "        print(f\"{length}: {'*' * len_dict[length]}\")\n",
    "    #print(\"length dict\", sorted(len_dict))\n",
    "\n",
    "histo(\"text.txt\")\n"
   ]
  },
  {
   "cell_type": "markdown",
   "metadata": {},
   "source": [
    "__Exercise 10.__ Write a program able to play the \"Guess the number\" game, where the number to be guessed is randomly chosen between 1 and 20. This is how it should work when run:\n",
    "\n",
    "```\n",
    "Hello! What is your name?\n",
    "  Andre\n",
    "Well, Andre, I am thinking of a number between 1 and 20.\n",
    "Take a guess.\n",
    "  10\n",
    "Your guess is too low.\n",
    "Take a guess.\n",
    "  15\n",
    "Your guess is too low.\n",
    "Take a guess.\n",
    "  18\n",
    "Good job, Andre! You guessed my number in 3 guesses!\n",
    "```"
   ]
  },
  {
   "cell_type": "code",
   "execution_count": 36,
   "metadata": {
    "collapsed": true
   },
   "outputs": [
    {
     "ename": "KeyboardInterrupt",
     "evalue": "Interrupted by user",
     "output_type": "error",
     "traceback": [
      "\u001b[0;31m---------------------------------------------------------------------------\u001b[0m",
      "\u001b[0;31mKeyboardInterrupt\u001b[0m                         Traceback (most recent call last)",
      "Cell \u001b[0;32mIn[36], line 7\u001b[0m\n\u001b[1;32m      4\u001b[0m guess \u001b[39m=\u001b[39m \u001b[39m0\u001b[39m\n\u001b[1;32m      5\u001b[0m guess_count \u001b[39m=\u001b[39m \u001b[39m0\u001b[39m\n\u001b[0;32m----> 7\u001b[0m name \u001b[39m=\u001b[39m \u001b[39minput\u001b[39m(\u001b[39m\"\u001b[39m\u001b[39mHello! What is your name?\u001b[39m\u001b[39m\"\u001b[39m)\n\u001b[1;32m      8\u001b[0m \u001b[39mprint\u001b[39m(name) \n\u001b[1;32m     10\u001b[0m \u001b[39mwhile\u001b[39;00m guess\u001b[39m!=\u001b[39m number:\n",
      "File \u001b[0;32m~/anaconda3/lib/python3.11/site-packages/ipykernel/kernelbase.py:1202\u001b[0m, in \u001b[0;36mKernel.raw_input\u001b[0;34m(self, prompt)\u001b[0m\n\u001b[1;32m   1200\u001b[0m     msg \u001b[39m=\u001b[39m \u001b[39m\"\u001b[39m\u001b[39mraw_input was called, but this frontend does not support input requests.\u001b[39m\u001b[39m\"\u001b[39m\n\u001b[1;32m   1201\u001b[0m     \u001b[39mraise\u001b[39;00m StdinNotImplementedError(msg)\n\u001b[0;32m-> 1202\u001b[0m \u001b[39mreturn\u001b[39;00m \u001b[39mself\u001b[39m\u001b[39m.\u001b[39m_input_request(\n\u001b[1;32m   1203\u001b[0m     \u001b[39mstr\u001b[39m(prompt),\n\u001b[1;32m   1204\u001b[0m     \u001b[39mself\u001b[39m\u001b[39m.\u001b[39m_parent_ident[\u001b[39m\"\u001b[39m\u001b[39mshell\u001b[39m\u001b[39m\"\u001b[39m],\n\u001b[1;32m   1205\u001b[0m     \u001b[39mself\u001b[39m\u001b[39m.\u001b[39mget_parent(\u001b[39m\"\u001b[39m\u001b[39mshell\u001b[39m\u001b[39m\"\u001b[39m),\n\u001b[1;32m   1206\u001b[0m     password\u001b[39m=\u001b[39m\u001b[39mFalse\u001b[39;00m,\n\u001b[1;32m   1207\u001b[0m )\n",
      "File \u001b[0;32m~/anaconda3/lib/python3.11/site-packages/ipykernel/kernelbase.py:1245\u001b[0m, in \u001b[0;36mKernel._input_request\u001b[0;34m(self, prompt, ident, parent, password)\u001b[0m\n\u001b[1;32m   1242\u001b[0m \u001b[39mexcept\u001b[39;00m \u001b[39mKeyboardInterrupt\u001b[39;00m:\n\u001b[1;32m   1243\u001b[0m     \u001b[39m# re-raise KeyboardInterrupt, to truncate traceback\u001b[39;00m\n\u001b[1;32m   1244\u001b[0m     msg \u001b[39m=\u001b[39m \u001b[39m\"\u001b[39m\u001b[39mInterrupted by user\u001b[39m\u001b[39m\"\u001b[39m\n\u001b[0;32m-> 1245\u001b[0m     \u001b[39mraise\u001b[39;00m \u001b[39mKeyboardInterrupt\u001b[39;00m(msg) \u001b[39mfrom\u001b[39;00m \u001b[39mNone\u001b[39;00m\n\u001b[1;32m   1246\u001b[0m \u001b[39mexcept\u001b[39;00m \u001b[39mException\u001b[39;00m:\n\u001b[1;32m   1247\u001b[0m     \u001b[39mself\u001b[39m\u001b[39m.\u001b[39mlog\u001b[39m.\u001b[39mwarning(\u001b[39m\"\u001b[39m\u001b[39mInvalid Message:\u001b[39m\u001b[39m\"\u001b[39m, exc_info\u001b[39m=\u001b[39m\u001b[39mTrue\u001b[39;00m)\n",
      "\u001b[0;31mKeyboardInterrupt\u001b[0m: Interrupted by user"
     ]
    }
   ],
   "source": [
    "import random\n",
    "\n",
    "number = random.randint(1,20)\n",
    "guess = 0\n",
    "guess_count = 0\n",
    "\n",
    "name = input(\"Hello! What is your name?\")\n",
    "print(name) \n",
    "\n",
    "while guess!= number:\n",
    "    guess = int(input(f\"Well {name} I am thinking of a number between 1 and 20. Take a guess\"))\n",
    "    guess_count += 1\n",
    "    if guess > number:\n",
    "        print(\"Your guess is too high.\")\n",
    "    elif guess < number:\n",
    "        print(\"Your guess is to low\")\n",
    "    else:\n",
    "        print(f\"Good job {name}! You guessed my number in {guess_count} guesses!\")"
   ]
  }
 ],
 "metadata": {
  "anaconda-cloud": {},
  "kernelspec": {
   "display_name": "Python 3 (ipykernel)",
   "language": "python",
   "name": "python3"
  },
  "language_info": {
   "codemirror_mode": {
    "name": "ipython",
    "version": 3
   },
   "file_extension": ".py",
   "mimetype": "text/x-python",
   "name": "python",
   "nbconvert_exporter": "python",
   "pygments_lexer": "ipython3",
   "version": "3.11.5"
  }
 },
 "nbformat": 4,
 "nbformat_minor": 1
}
