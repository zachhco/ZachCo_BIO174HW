{
  "cells": [
    {
      "cell_type": "markdown",
      "metadata": {
        "collapsed": true
      },
      "source": [
        "# Homework 10:\n",
        "\n",
        "For questions 1-4 use the orthologs.sqlite database we created in class (include the database in the directory with the homework when returning it to github)."
      ]
    },
    {
      "cell_type": "markdown",
      "metadata": {},
      "source": [
        "__Exercise 1.__ Create a query that will return the gene name, cai value and sequence for all yeast genes with CAI values larger than 0.85."
      ]
    },
    {
      "cell_type": "code",
      "execution_count": null,
      "metadata": {
        "collapsed": false
      },
      "outputs": [],
      "source": []
    },
    {
      "cell_type": "markdown",
      "metadata": {},
      "source": [
        "__Exercise 2.__ Modify the query above to return the gene name in yeast, the gene names in the other three species, the cai value and the sequence for all yeat genes with a cai value larger that 0.8 and that have orthologs in the other three species."
      ]
    },
    {
      "cell_type": "code",
      "execution_count": null,
      "metadata": {
        "collapsed": false
      },
      "outputs": [],
      "source": []
    },
    {
      "cell_type": "markdown",
      "metadata": {},
      "source": [
        "__Exercise 3.__ Perform the same query as above, but this time include the chromosome number of the gene in the output."
      ]
    },
    {
      "cell_type": "code",
      "execution_count": null,
      "metadata": {
        "collapsed": false
      },
      "outputs": [],
      "source": []
    },
    {
      "cell_type": "markdown",
      "metadata": {},
      "source": [
        "__Exercise 4.__ Now generate a table with the number of genes per chromosome that have CAI larger than 0.5 and have orthologs in the other three yeast species."
      ]
    },
    {
      "cell_type": "code",
      "execution_count": null,
      "metadata": {
        "collapsed": false
      },
      "outputs": [],
      "source": []
    },
    {
      "cell_type": "markdown",
      "metadata": {},
      "source": [
        "__Exercise 5:__ Use the yeast genome gff file that we downloaded in class.\n",
        "\n",
        "Read about the gff format and write a script that will create a database table with all the yeast genes and chromosomes. GFF files have all the annotation for a genome. For simplicity in our table we are only interested in the lines of the GFF files that give the coordinates of the chromosomes, genes, and tRNA genes. Your table should have the following columns: `ID number, Chromosome number, Start Position, End Position, Strand, Feature, Description`.\n",
        "\n",
        "All this information should be readily available from the gff file, with the exception of the ID number, which is given as the \"ID\" in the last column, and you will have to process it a little bit. Again, only include in your table the yeast protein coding genes, tRNA coding genes, and chromosomes. Your final table should have one row per gene for a total of 6,923 rows.\n",
        "\n",
        "Note that the description of several genes, and even some gene names contain special HTML characters, like %20. To convert these to text you should use the `unquote()` function of the `urllib` package. Do that before trying to use your regular expressions."
      ]
    },
    {
      "cell_type": "code",
      "execution_count": null,
      "metadata": {
        "collapsed": true
      },
      "outputs": [],
      "source": []
    }
  ],
  "metadata": {
    "anaconda-cloud": {},
    "kernelspec": {
      "display_name": "Python [default]",
      "language": "python",
      "name": "python2"
    },
    "language_info": {
      "codemirror_mode": {
        "name": "ipython",
        "version": 2
      },
      "file_extension": ".py",
      "mimetype": "text/x-python",
      "name": "python",
      "nbconvert_exporter": "python",
      "pygments_lexer": "ipython2",
      "version": "2.7.12"
    },
    "nteract": {
      "version": "0.8.4"
    }
  },
  "nbformat": 4,
  "nbformat_minor": 2
}
