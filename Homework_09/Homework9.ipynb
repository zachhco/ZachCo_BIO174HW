{
 "cells": [
  {
   "cell_type": "markdown",
   "metadata": {},
   "source": [
    "# Homework 9:"
   ]
  },
  {
   "cell_type": "markdown",
   "metadata": {},
   "source": [
    "Repeat the procedure we did in class to map the cities of the US using a map and the results of a PCoA, but using a different country of your choosing.\n",
    "\n",
    "Tips:\n",
    "\n",
    "These are the packages that you will need:\n",
    "\n",
    "```\n",
    "import geopy.distance\n",
    "import pandas as pd\n",
    "import plotly.express as px\n",
    "import skbio\n",
    "```\n",
    "\n",
    "You will also need the `world_cities.csv` file to get the city names and coordinates for your country.\n",
    "\n",
    "1. Choose your country.\n",
    "2. Get only the cities of that country from the `world_cities.csv` file.\n",
    "3. Sort the cities by population and select the 20 to 50 most populated cities.\n",
    "4. Create a data frame with only these cities.\n",
    "5. Calculate the distance between the cities using their latitude/longitude data from your data frame (geopy).\n",
    "6. Create a data frame with a table of all the distances between each paur of cities. This needs to be in a distance matrix format, just like we imported from the `cities.csv` file for the US.\n",
    "7. Perform the PCoA using skbio.\n",
    "8. Plot the results of the PCoA using plotly express.\n",
    "9. Plot the map of the country with the cities using the latitude/longitude from your table using plotly express.\n",
    "10. That's it!"
   ]
  },
  {
   "cell_type": "code",
   "execution_count": null,
   "metadata": {},
   "outputs": [],
   "source": []
  }
 ],
 "metadata": {
  "language_info": {
   "name": "python"
  },
  "orig_nbformat": 4
 },
 "nbformat": 4,
 "nbformat_minor": 2
}
