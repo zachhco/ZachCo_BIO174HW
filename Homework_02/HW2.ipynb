{
 "cells": [
  {
   "attachments": {},
   "cell_type": "markdown",
   "metadata": {},
   "source": [
    "# Zach Cohen\n",
    "## Homework 2 - Markdown and SVG\n",
    "_______________________________________________________________________________"
   ]
  },
  {
   "attachments": {},
   "cell_type": "markdown",
   "metadata": {},
   "source": [
    "## <span style=\"color:#000c6a\"><strong>Are Seatbelts Safe: Risk Compensation and The Efficacy of Automotive Safety Regulation in The U.S.</strong></span> ##\n",
    "Short snippets and tables from a paper I wrote on seatbelts and risk compensation theory"
   ]
  },
  {
   "attachments": {},
   "cell_type": "markdown",
   "metadata": {},
   "source": [
    "__Descriptive Statistics:__\n",
    "\n",
    "| Variables       | MEAN   | SD     | MIN  | MAX  |\n",
    "|-----------------|:------:|:------:|:----:|-----:|\n",
    "| Driver Fatality |  0.552 |  0.497 |   0  |   1  |\n",
    "| Restraint Use   |  0.616 |  0.486 |   0  |   1  |\n",
    "| Alcohol Use     |  0.552 |  0.497 |   0  |   1  |\n",
    "```"
   ]
  },
  {
   "attachments": {},
   "cell_type": "markdown",
   "metadata": {},
   "source": [
    "__Equations:__\n",
    "$$\n",
    "\\phi(Y_i) = \\beta_0 + \\beta_1 \\text{RestraintUse} + \\beta_2 \\text{AlcoholUse} + \\beta_3 \\text{DrugUse} + \\beta_4 \\text{SpeedingRelated} + e_i\n",
    "$$\n"
   ]
  },
  {
   "attachments": {},
   "cell_type": "markdown",
   "metadata": {},
   "source": [
    "__Figures:__\n",
    "\n",
    "<img src=\"results1.png\" height=\"400\">\n",
    "<img src=\"results2.png\" height=\"400\">\n"
   ]
  },
  {
   "attachments": {},
   "cell_type": "markdown",
   "metadata": {},
   "source": [
    "__Drawing:)__\n",
    "\n",
    "<svg width=\"400\" height=\"400\" xmlns=\"http://www.w3.org/2000/svg\">\n",
    "  <rect x=\"0\" y=\"200\" width=\"200\" height=\"200\" style=\"fill:blue\" />\n",
    "  <rect x=\"40\" y=\"320\" width=\"60\" height=\"80\" style=\"fill:red\" />\n",
    "  <rect x=\"120\" y=\"320\" width=\"40\" height=\"40\" style=\"fill:red\" />\n",
    "  <polygon points=\"0,200 100,120 200,200\"  style=\"fill:brown\"/>\n",
    "  <circle cx=\"400\" cy=\"0\" r=\"100\" style=\"fill:yellow;stroke:black;stroke-width:8\"/>\n",
    "  <line x1=\"240\" y1=\"400\" x2=\"280\" y2=\"320\" style=\"stroke:black;stroke-width:8\"/>\n",
    "  <line x1=\"280\" y1=\"320\" x2=\"320\" y2=\"400\" style=\"stroke:black;stroke-width:8\"/>\n",
    "  <line x1=\"280\" y1=\"320\" x2=\"280\" y2=\"220\" style=\"stroke:black;stroke-width:8\"/>\n",
    "  <line x1=\"240\" y1=\"272\" x2=\"320\" y2=\"272\" style=\"stroke:black;stroke-width:8\"/>\n",
    "  <circle cx=\"280\" cy=\"200\" r=\"36\" style=\"fill:black\"/>\n",
    "</svg>\n"
   ]
  },
  {
   "cell_type": "markdown",
   "metadata": {},
   "source": []
  }
 ],
 "metadata": {
  "language_info": {
   "name": "python"
  },
  "orig_nbformat": 4
 },
 "nbformat": 4,
 "nbformat_minor": 2
}
