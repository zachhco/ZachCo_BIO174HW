{
 "cells": [
  {
   "attachments": {},
   "cell_type": "markdown",
   "metadata": {},
   "source": [
    "# Zach Cohen\n",
    "## Homework 2 - Markdown and SVG\n",
    "_______________________________________________________________________________"
   ]
  },
  {
   "attachments": {},
   "cell_type": "markdown",
   "metadata": {},
   "source": [
    "## <span style=\"color:#000c6a\"><strong>Are Seatbelts Safe: Risk Compensation and The Efficacy of Automotive Safety Regulation in The U.S.</strong></span> ##\n",
    "Short snippets and tables from a paper I wrote on seatbelts and risk compensation theory"
   ]
  },
  {
   "attachments": {},
   "cell_type": "markdown",
   "metadata": {},
   "source": [
    "__Descriptive Statistics:__\n",
    "\n",
    "| Variables       | MEAN   | SD     | MIN  | MAX  |\n",
    "|-----------------|:------:|:------:|:----:|-----:|\n",
    "| Driver Fatality |  0.552 |  0.497 |   0  |   1  |\n",
    "| Restraint Use   |  0.616 |  0.486 |   0  |   1  |\n",
    "| Alcohol Use     |  0.552 |  0.497 |   0  |   1  |\n",
    "```"
   ]
  },
  {
   "attachments": {},
   "cell_type": "markdown",
   "metadata": {},
   "source": [
    "__Equations:__\n",
    "$$\n",
    "\\phi(Y_i) = \\beta_0 + \\beta_1 \\text{RestraintUse} + \\beta_2 \\text{AlcoholUse} + \\beta_3 \\text{DrugUse} + \\beta_4 \\text{SpeedingRelated} + e_i\n",
    "$$\n"
   ]
  },
  {
   "attachments": {},
   "cell_type": "markdown",
   "metadata": {},
   "source": [
    "__Figures:__\n",
    "\n",
    "<img src=\"results1.png\" height=\"400\">\n",
    "<img src=\"results2.png\" height=\"400\">\n"
   ]
  },
  {
   "cell_type": "markdown",
   "metadata": {},
   "source": []
  },
  {
   "attachments": {},
   "cell_type": "markdown",
   "metadata": {},
   "source": [
    "<svg width=\"100\" height=\"100\" xmlns=\"http://www.w3.org/2000/svg\"\n",
    "     xmlns:xlink=\"http://www.w3.org/1999/xlink\">\n",
    "  <circle cx=\"50\" cy=\"50\" r=\"40\" stroke=\"green\" stroke-width=\"4\" fill=\"yellow\" />\n",
    "</svg>"
   ]
  }
 ],
 "metadata": {
  "language_info": {
   "name": "python"
  },
  "orig_nbformat": 4
 },
 "nbformat": 4,
 "nbformat_minor": 2
}
