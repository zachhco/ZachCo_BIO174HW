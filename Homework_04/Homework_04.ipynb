{
 "cells": [
  {
   "cell_type": "markdown",
   "metadata": {},
   "source": [
    "# Homework 4:"
   ]
  },
  {
   "cell_type": "markdown",
   "metadata": {},
   "source": [
    "## 1. Play with fasta files.\n",
    "\n",
    "Create a program to analyse all the yeast sequences.\n",
    "\n",
    "__FIRST CELL OF PROBLEM 1:__\n",
    "\n",
    "a. Download all the coding sequences from yeast like in class."
   ]
  },
  {
   "cell_type": "code",
   "execution_count": null,
   "metadata": {
    "collapsed": true
   },
   "outputs": [],
   "source": []
  },
  {
   "cell_type": "markdown",
   "metadata": {},
   "source": [
    "__SECOND CELL OF PROBLEM 1:__\n",
    "\n",
    "b. Use the functions in `myFunctions.py` to read all the sequences in the file.\n",
    "\n",
    "c. Calculate GC content and length of each sequence.\n",
    "\n",
    "d. Make a dictionary of dictionaries with the sequence name as the key, and GC content, length, the sequence of each gene and the protein sequence derived from translating the gene.\n",
    "\n",
    "e. Write the results to a tab delimited file, one sequence per line. Each line should contain, the name of the sequence, GC content, length, DNA seq, and Protein Seq, each of these fields should be separated by tabs."
   ]
  },
  {
   "cell_type": "code",
   "execution_count": null,
   "metadata": {
    "collapsed": true
   },
   "outputs": [],
   "source": []
  },
  {
   "cell_type": "markdown",
   "metadata": {},
   "source": [
    "__THIRD CELL OF PROBLEM 1:__\n",
    "\n",
    "f. Make a histogram of the GC content of all yeast genes."
   ]
  },
  {
   "cell_type": "code",
   "execution_count": null,
   "metadata": {
    "collapsed": true
   },
   "outputs": [],
   "source": []
  },
  {
   "cell_type": "markdown",
   "metadata": {},
   "source": [
    "__FOURTH CELL OF PROBLEM 1:__\n",
    "\n",
    "g. Make a histogram of the sequence length for all yeast genes."
   ]
  },
  {
   "cell_type": "code",
   "execution_count": null,
   "metadata": {
    "collapsed": true
   },
   "outputs": [],
   "source": []
  },
  {
   "cell_type": "markdown",
   "metadata": {},
   "source": [
    "__FIFTH CELL OF PROBLEM 1:__\n",
    "\n",
    "h. Make a 2D density plot of GC vs sequence length."
   ]
  },
  {
   "cell_type": "code",
   "execution_count": null,
   "metadata": {
    "collapsed": true
   },
   "outputs": [],
   "source": []
  },
  {
   "cell_type": "markdown",
   "metadata": {},
   "source": [
    "## 2. PlotLy contour plot of BMI:\n",
    "\n",
    "From wikipedia:\n",
    "\n",
    ">The body mass index (BMI) or Quetelet index is a value derived from the mass (weight) and height of an individual. The BMI is defined as the body mass divided by the square of the body height, and is universally expressed in units of kg/m2, resulting from mass in kilograms and height in metres.\n",
    "\n",
    "Create a function to calculate BMI from height and weight and make a 2D contour chart showing the BMI for heights between 1.4 and 2.2m and weights between 40 and 120kg, indicating the healthy range for BMI.\n",
    "\n",
    "__FIRST CELL OF PROBLEM 2:__\n",
    "\n",
    "\n",
    "a. Use numpy's linspace to have 100 points for height and 100 for weight.\n",
    "\n",
    "b. We are going to use plotly's `Contour` plot, it takes as input a single variable, z. This should be a list of lists, which you can think of as a matrix. For each value of height, you should calculate BMI for all values of weight, put these in a list and the list to a list of lists. \n",
    "\n",
    "c. By the end of this cell you need three variables, a list (or numpy array) with the height values, a list (or numpy array) with the weight values, and a list of lists with the bmi values."
   ]
  },
  {
   "cell_type": "code",
   "execution_count": null,
   "metadata": {
    "collapsed": true
   },
   "outputs": [],
   "source": []
  },
  {
   "cell_type": "markdown",
   "metadata": {},
   "source": [
    "__SECOND CELL OF PROBLEM 2:__\n",
    "\n",
    "d. Use plotly's `Contour` to create a graph like the one below:\n",
    "\n",
    "![BMI Plot](bmi0.png)"
   ]
  },
  {
   "cell_type": "code",
   "execution_count": null,
   "metadata": {
    "collapsed": true
   },
   "outputs": [],
   "source": []
  },
  {
   "cell_type": "markdown",
   "metadata": {},
   "source": [
    "__THIRD CELL OF PROBLEM 2:__\n",
    "\n",
    "e. To be most useful, your contour plot should have only three levels, low bmi, good bmi, and high bmi. The cut-offs for these are 18 and 25, your graph should look like the one below (the colors don't matter).\n",
    "\n",
    "![BMI Plot 2](bmi.png)"
   ]
  },
  {
   "cell_type": "code",
   "execution_count": null,
   "metadata": {
    "collapsed": true
   },
   "outputs": [],
   "source": []
  }
 ],
 "metadata": {
  "kernelspec": {
   "display_name": "Python 3",
   "language": "python",
   "name": "python3"
  },
  "language_info": {
   "codemirror_mode": {
    "name": "ipython",
    "version": 3
   },
   "file_extension": ".py",
   "mimetype": "text/x-python",
   "name": "python",
   "nbconvert_exporter": "python",
   "pygments_lexer": "ipython3",
   "version": "3.6.3"
  }
 },
 "nbformat": 4,
 "nbformat_minor": 2
}
