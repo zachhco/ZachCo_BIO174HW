{
 "cells": [
  {
   "cell_type": "markdown",
   "metadata": {},
   "source": [
    "# 1. Partial Correlations\n",
    "\n",
    "Modify the code of the `partial_cor()` function from Class 09d, so that it takes as input a correlation matrix and the name of one variable, and returns the partial correlation for each pair of variables controlled for the variable you passed to the function.\n",
    "\n",
    "For example, if you use the correlation matrices that we calculated in Class 9d, you could use the function by calling: `partial_cor(cor1, CAI)`, this would return the partial correlation of each pair of variables (minus CAI) controlled by CAI.\n",
    "\n",
    "To do this, please save the `result` dataframe from Class 9d to a file, copy the file to the homework directory, read the file into a datframe, calculate the correlation matrix, and finally test your function."
   ]
  },
  {
   "cell_type": "code",
   "execution_count": null,
   "metadata": {
    "collapsed": true
   },
   "outputs": [],
   "source": []
  },
  {
   "attachments": {},
   "cell_type": "markdown",
   "metadata": {},
   "source": [
    "# 2. Results from Wall et al.\n",
    "\n",
    "Download the HTML page for the Wall et al paper from the PNAS website (https://www.pnas.org/content/102/15/5483/) using your browser. Then use BeautifulSoup (not pandas) to parse the HTML and scrape Table 1, finally print the value of the BeautifulSoup variable containing the table using the `IPYthon.display.Markdown` function to display the table. \n",
    "\n",
    "(Unfortunately, we cannot automatically download the HMTL for the page anymore because the PNAS site uses Cloudfare to prevent users from scraping so we cannot use python's request package to download the page)"
   ]
  },
  {
   "cell_type": "code",
   "execution_count": null,
   "metadata": {
    "collapsed": true
   },
   "outputs": [],
   "source": []
  }
 ],
 "metadata": {
  "kernelspec": {
   "display_name": "base",
   "language": "python",
   "name": "python3"
  },
  "language_info": {
   "codemirror_mode": {
    "name": "ipython",
    "version": 3
   },
   "file_extension": ".py",
   "mimetype": "text/x-python",
   "name": "python",
   "nbconvert_exporter": "python",
   "pygments_lexer": "ipython3",
   "version": "3.9.12 (main, Apr  5 2022, 01:53:17) \n[Clang 12.0.0 ]"
  },
  "vscode": {
   "interpreter": {
    "hash": "d65c0cc447810067c5360fe9f92345cbb6ea5cebea71d6b4fb533385ef0f3420"
   }
  }
 },
 "nbformat": 4,
 "nbformat_minor": 2
}
